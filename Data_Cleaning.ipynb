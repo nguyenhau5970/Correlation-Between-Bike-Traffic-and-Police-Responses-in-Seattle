{
 "cells": [
  {
   "cell_type": "markdown",
   "id": "2cdcc76c-e5bf-42e3-939c-2ffb25a7a17a",
   "metadata": {},
   "source": [
    "# Data Cleaning\n",
    "\n",
    "This notebook will clean up the data for analysis.\n",
    "\n",
    "## Setup\n",
    "\n",
    "Get the data from the following sources (use \"Export\" in the top right, export as csv):\n",
    "* [Police Call Data](https://data.seattle.gov/Public-Safety/Call-Data/33kz-ixgy) \n",
    "* [Fremont Bridge Bicycle Counter](https://data.seattle.gov/Transportation/Fremont-Bridge-Bicycle-Counter/65db-xm6k)\n",
    "* [NW 58th St Greenway at 22nd Ave NW Bicycle Counter](https://data.seattle.gov/Transportation/NW-58th-St-Greenway-at-22nd-Ave-NW-Bicycle-Counter/47yq-6ugv)\n",
    "\n",
    "Put the csv files in a directory named `data/` next to this notebook and be sure the file names listed below are correct.\n",
    "\n",
    "```\n",
    ".\n",
    "├── data\n",
    "│   ├── Call_Data.csv\n",
    "│   ├── Fremont_Bridge_Bicycle_Counter.csv\n",
    "│   └── NW_58th_St_Greenway_at_22nd_Ave_NW_Bicycle_Counter.csv\n",
    "├── Data Cleaning.ipynb\n",
    "```\n",
    "\n",
    "Run this notebook and it should output the cleaned data."
   ]
  },
  {
   "cell_type": "code",
   "execution_count": 1,
   "id": "7ca0b65d-250b-4545-84a4-244b631053a9",
   "metadata": {},
   "outputs": [],
   "source": [
    "# Imports\n",
    "from os import path\n",
    "import os\n",
    "import pandas as pd"
   ]
  },
  {
   "cell_type": "markdown",
   "id": "e12f2fa4-a5da-47b2-8949-7c1f67578554",
   "metadata": {},
   "source": [
    "## Load the Frames\n",
    "\n",
    "This will load the frames from the CSV file. It may take a minute, especially for the police call data, so give it time."
   ]
  },
  {
   "cell_type": "code",
   "execution_count": 2,
   "id": "2dc75ec6-e0af-4ef7-9100-73ae68aece6c",
   "metadata": {},
   "outputs": [],
   "source": [
    "# Files\n",
    "call_file = path.join(\"data\", \"Call_Data.csv\")\n",
    "fremont_file = path.join(\"data\", \"Fremont_Bridge_Bicycle_Counter.csv\")\n",
    "greenway_file = path.join(\"data\", \"NW_58th_St_Greenway_at_22nd_Ave_NW_Bicycle_Counter.csv\")"
   ]
  },
  {
   "cell_type": "code",
   "execution_count": 3,
   "id": "41076015-77db-4203-932c-6f4e8b9662ac",
   "metadata": {},
   "outputs": [],
   "source": [
    "# This frame is very large, so it's in it's own cell so you can run it once and not multiple times\n",
    "call_frame = pd.read_csv(call_file)"
   ]
  },
  {
   "cell_type": "code",
   "execution_count": 4,
   "id": "a5e1cab4-ad3b-4cd5-ad8f-6c81550a7a88",
   "metadata": {},
   "outputs": [],
   "source": [
    "# Load the Bike Counter frames\n",
    "fremont_frame = pd.read_csv(fremont_file)\n",
    "greenway_frame = pd.read_csv(greenway_file)"
   ]
  },
  {
   "cell_type": "markdown",
   "id": "553b2fbf-0a90-4922-bb8d-3f0c0f871219",
   "metadata": {},
   "source": [
    "## Rename Columns\n",
    "\n",
    "We'll rename them so they're easier to reference."
   ]
  },
  {
   "cell_type": "code",
   "execution_count": 5,
   "id": "6b8dc1d4-1c9a-4bd5-92f4-20bb96a48079",
   "metadata": {},
   "outputs": [],
   "source": [
    "# Rename police call frame columns\n",
    "call_column_names = {\n",
    "    'CAD Event Number': 'cad_num',\n",
    "    'Event Clearance Description': 'clearance_desc',\n",
    "    'Call Type': 'call_type',\n",
    "    'Priority': 'priority',\n",
    "    'Initial Call Type': 'initial_call_type',\n",
    "    'Final Call Type': 'final_call_type',\n",
    "    'Original Time Queued': 'time_queued',\n",
    "    'Arrived Time': 'arrived_time',\n",
    "    'Precinct': 'precinct',\n",
    "    'Sector': 'sector',\n",
    "    'Beat': 'beat',\n",
    "    'Blurred_Longitude': 'blurred_long',\n",
    "    'Blurred_Latitude': 'blurred_lat'\n",
    "}\n",
    "_ = call_frame.rename(columns = call_column_names, inplace = True)"
   ]
  },
  {
   "cell_type": "code",
   "execution_count": 6,
   "id": "8d2e942e-d889-4066-a4bf-f43dd6b09958",
   "metadata": {},
   "outputs": [],
   "source": [
    "fremont_column_names = {\n",
    "    'Date': 'date',\n",
    "    'Fremont Bridge Sidewalks, south of N 34th St': 'total',\n",
    "    'Fremont Bridge Sidewalks, south of N 34th St Cyclist East Sidewalk': 'east',\n",
    "    'Fremont Bridge Sidewalks, south of N 34th St Cyclist West Sidewalk': 'west'\n",
    "}\n",
    "\n",
    "fremont_frame.rename(columns = fremont_column_names, inplace = True)"
   ]
  },
  {
   "cell_type": "code",
   "execution_count": 7,
   "id": "5220afe1-266a-4b53-8b7c-3d7d5470c9fc",
   "metadata": {},
   "outputs": [],
   "source": [
    "greenway_column_names = {\n",
    "    'Date': 'date',\n",
    "    'NW 58th St Greenway st 22nd Ave NW Total': 'total',\n",
    "    'East': 'east',\n",
    "    'West': 'west'\n",
    "}\n",
    "_ = greenway_frame.rename(columns = greenway_column_names, inplace = True)"
   ]
  },
  {
   "cell_type": "markdown",
   "id": "df69fd11-a662-4b3e-974f-e5fbaf7510d9",
   "metadata": {},
   "source": [
    "## Filter by Dates\n",
    "\n",
    "First we should get the date ranges for all the frames. We only need to keep the police call data that overlaps with the bike counter date ranges."
   ]
  },
  {
   "cell_type": "markdown",
   "id": "bbe7acd0-60bf-4ab6-b8e6-1eb0bb558bd6",
   "metadata": {},
   "source": [
    "### Parse Dates and Times"
   ]
  },
  {
   "cell_type": "code",
   "execution_count": 8,
   "id": "66cb96c0-e065-4fe5-8f41-ed88da8684f2",
   "metadata": {},
   "outputs": [],
   "source": [
    "# Parse the date columns into date types\n",
    "# Also split the date and time\n",
    "\n",
    "# We only want to parse once, this will prevent it from parsing again if we already have\n",
    "if 'time' not in fremont_frame.columns:\n",
    "    fremont_frame['date'] = pd.to_datetime(fremont_frame['date'], format='%m/%d/%Y %I:%M:%S %p')\n",
    "    fremont_frame['time'] = fremont_frame['date'].dt.time\n",
    "    fremont_frame['date'] = fremont_frame['date'].dt.date\n",
    "\n",
    "if 'time' not in greenway_frame.columns:\n",
    "    greenway_frame['date'] = pd.to_datetime(greenway_frame['date'], format='%m/%d/%Y %I:%M:%S %p')\n",
    "    greenway_frame['time'] = greenway_frame['date'].dt.time\n",
    "    greenway_frame['date'] = greenway_frame['date'].dt.date"
   ]
  },
  {
   "cell_type": "code",
   "execution_count": 9,
   "id": "747667db-6f37-42b7-a2d2-9e747bfde4ba",
   "metadata": {},
   "outputs": [],
   "source": [
    "# Parse the call frame arrived_time to a date time type\n",
    "# Keep this in a separate cell as above because it takes a second\n",
    "\n",
    "# Same as above, split the date and time for arrived_date\n",
    "if 'arrived_date' not in call_frame.columns:\n",
    "    call_frame['arrived_time'] = pd.to_datetime(call_frame['arrived_time'], format='%m/%d/%Y %I:%M:%S %p')\n",
    "    call_frame['arrived_date'] = call_frame['arrived_time'].dt.date\n",
    "    call_frame['arrived_time'] = call_frame['arrived_time'].dt.time"
   ]
  },
  {
   "cell_type": "code",
   "execution_count": 10,
   "id": "2ddbaaa5-568d-4927-adbb-9fe681ffbd4b",
   "metadata": {},
   "outputs": [],
   "source": [
    "# Get date ranges for both\n",
    "fremont_range  = ( fremont_frame['date'].min(),  fremont_frame['date'].max())\n",
    "greenway_range = (greenway_frame['date'].min(), greenway_frame['date'].max())"
   ]
  },
  {
   "cell_type": "code",
   "execution_count": 11,
   "id": "48bd8b3f-b7a4-4bd2-8dbe-2046ceb02bfe",
   "metadata": {},
   "outputs": [],
   "source": [
    "# Just asserts that the arrived_date of the police call is within the provided date_range\n",
    "between_dates = lambda frame, date_range: (frame['arrived_date'] >= date_range[0]) & (frame['arrived_date'] <= date_range[1])\n",
    "\n",
    "fremont_calls = call_frame[between_dates(call_frame, fremont_range)]\n",
    "greenway_calls = call_frame[between_dates(call_frame, greenway_range)]\n",
    "\n",
    "# Assert that we didn't mess up the filter logic\n",
    "assert len(fremont_calls) > 0\n",
    "assert len(greenway_calls) > 0"
   ]
  },
  {
   "cell_type": "markdown",
   "id": "467610d4-07fb-4988-ad3d-d997efe4d426",
   "metadata": {},
   "source": [
    "## Filter by Location\n",
    "\n",
    "We only need to keep the police calls within a certain radius of the bike counters.\n",
    "\n",
    "Areas that police patrol are split into precint -> sector -> beat. The beat is a letter, then number, where the letter corresponds to the sector.\n",
    "\n",
    "You can find a [\"beat map\" of Seattle here](https://www.seattle.gov/police/about-us/police-locations/precinct-locator)\n",
    "\n",
    "Looking at the Fremont Bridge, it's in beat Q2, but we'll include neighboring beats that are easy to access from the bridge as well. We'll do the same for the Greenway counter."
   ]
  },
  {
   "cell_type": "code",
   "execution_count": 12,
   "id": "606f71c2-c85f-4bc2-9471-668305afd8dd",
   "metadata": {},
   "outputs": [],
   "source": [
    "fremont_beats = ['Q2', 'B2', 'B3', 'D2']\n",
    "greenway_beats = ['B1', 'B2', 'B3', 'J2', 'J3']\n",
    "\n",
    "fremont_calls = fremont_calls.loc[fremont_calls['beat'].isin(fremont_beats)]\n",
    "greenway_calls = greenway_calls.loc[greenway_calls['beat'].isin(greenway_beats)]"
   ]
  },
  {
   "cell_type": "markdown",
   "id": "b4e6e363-8fe6-44a3-a29e-385881cb76f8",
   "metadata": {},
   "source": [
    "## Write cleaned data to file\n",
    "\n",
    "The new filtered and cleaned frames will be written to the `data/cleaned/` directory, so we can load them from there and leave the original data alone. You can always delete the cleaned data and re-run this script to regenerate it."
   ]
  },
  {
   "cell_type": "code",
   "execution_count": 13,
   "id": "a2dc66d2-7793-43d6-9c1c-dd090fa5b26c",
   "metadata": {},
   "outputs": [],
   "source": [
    "# Shorthand to get a path to the output directory\n",
    "out_file = lambda filename: path.join('data', 'cleaned', filename)\n",
    "\n",
    "# Create the 'cleaned/' directory if it doesn't exist\n",
    "if not path.exists(out_file('')):\n",
    "    os.makedirs(out_file(''))"
   ]
  },
  {
   "cell_type": "code",
   "execution_count": 14,
   "id": "1c69e055-7671-4d14-8cfe-3306b63944a5",
   "metadata": {},
   "outputs": [],
   "source": [
    "# Write the fremont calls\n",
    "fremont_calls.to_csv(out_file('fremont_calls.csv'), index = False)"
   ]
  },
  {
   "cell_type": "code",
   "execution_count": 15,
   "id": "9b6bbdd7-d3ef-4d8a-8824-880b4bdae3db",
   "metadata": {},
   "outputs": [],
   "source": [
    "# Write the greenway calls\n",
    "greenway_calls.to_csv(out_file('greenway_calls.csv'), index = False)"
   ]
  },
  {
   "cell_type": "code",
   "execution_count": 16,
   "id": "52a1a56b-1886-44b4-98d6-5f819f4943ce",
   "metadata": {},
   "outputs": [],
   "source": [
    "# Write the fremont bike counter data\n",
    "fremont_frame.to_csv(out_file('fremont_bikes.csv'), index = False)"
   ]
  },
  {
   "cell_type": "code",
   "execution_count": 17,
   "id": "82ae7611-ce42-4bbc-8925-ca3c25a8108b",
   "metadata": {},
   "outputs": [],
   "source": [
    "# Write the greenway bike counter data\n",
    "greenway_frame.to_csv(out_file('greenway_bikes.csv'), index = False)"
   ]
  },
  {
   "cell_type": "markdown",
   "id": "bcec1aad-98b8-45b3-9b8e-45832e7fe35f",
   "metadata": {},
   "source": [
    "# Summary\n",
    "\n",
    "Now, the files we have are:\n",
    "\n",
    "```\n",
    ".\n",
    "├── data\n",
    "│   ├── cleaned\n",
    "│   │   ├── fremont_bikes.csv\n",
    "│   │   ├── fremont_calls.csv\n",
    "│   │   ├── greenway_bikes.csv\n",
    "│   │   └── greenway_calls.csv\n",
    "│   ├── Call_Data.csv\n",
    "│   ├── Fremont_Bridge_Bicycle_Counter.csv\n",
    "│   └── NW_58th_St_Greenway_at_22nd_Ave_NW_Bicycle_Counter.csv\n",
    "```\n",
    "\n",
    "We can now work with the cleaned data files:\n",
    "\n",
    "* `data/cleaned/fremont_bikes.csv` is basically the original Fremont bike counter data set, but with renamed/split columns\n",
    "* `data/cleaned/greenway_bikes.csv` is the same as above, but for the Greenway counter\n",
    "* `data/cleaned/fremont_calls.csv` is all the police call data that overlaps with the Fremont bike counter dates, and is in the police beat or neighboring beats. Again, with renamed/split columns.\n",
    "* `data/cleaned/greenway_calls.csv` is the same as above, but for the Greenway counter.\n",
    "\n",
    "The original `csv` files in `data/` are untouched. We can always regenerate the cleaned files using this notebook, so the originals shouldn't be edited.\n",
    "\n",
    "Going forward, we should use the cleaned data like this:"
   ]
  },
  {
   "cell_type": "code",
   "execution_count": 22,
   "id": "71c5b9e8-de83-4f06-95ee-5c4e5d23b2a2",
   "metadata": {},
   "outputs": [
    {
     "name": "stdout",
     "output_type": "stream",
     "text": [
      "<class 'pandas.core.frame.DataFrame'>\n",
      "RangeIndex: 314737 entries, 0 to 314736\n",
      "Data columns (total 14 columns):\n",
      " #   Column             Non-Null Count   Dtype  \n",
      "---  ------             --------------   -----  \n",
      " 0   cad_num            314737 non-null  int64  \n",
      " 1   clearance_desc     314737 non-null  object \n",
      " 2   call_type          314737 non-null  object \n",
      " 3   priority           314705 non-null  float64\n",
      " 4   initial_call_type  314737 non-null  object \n",
      " 5   final_call_type    314737 non-null  object \n",
      " 6   time_queued        314737 non-null  object \n",
      " 7   arrived_time       314737 non-null  object \n",
      " 8   precinct           314737 non-null  object \n",
      " 9   sector             314620 non-null  object \n",
      " 10  beat               314737 non-null  object \n",
      " 11  blurred_long       314737 non-null  float64\n",
      " 12  blurred_lat        314737 non-null  float64\n",
      " 13  arrived_date       314737 non-null  object \n",
      "dtypes: float64(3), int64(1), object(10)\n",
      "memory usage: 33.6+ MB\n"
     ]
    }
   ],
   "source": [
    "# This is how we'd start a new notebook\n",
    "# Also note that we have to re-parse date/time info like we did above, since it's stored as plain text in the csv file\n",
    "fremont_calls = pd.read_csv('data/cleaned/fremont_calls.csv')\n",
    "fremont_calls.info()"
   ]
  },
  {
   "cell_type": "markdown",
   "id": "3dc7e9e3-62b5-45df-aa47-5ab261c937f8",
   "metadata": {},
   "source": [
    "# What's Next\n",
    "\n",
    "I think a good next step is to summarize the police call data by hour. We have hourly reports for the bike counters, so we could reduce the police call data into hourly reports as well so they can be compared.\n",
    "\n",
    "This might be something like summarizing the amount of police calls in the hour, the most common type of police response in that hour, the percentage of violent crimes in that hour, etc. Then we can look for correlations. For example, we create a new data frame that has the amount of traffic related police responses per hour, and see if there's correlation between traffic responses and bike traffic.\n",
    "\n",
    "## Ideas for hourly reports\n",
    "\n",
    "* Most common type of police response in that hour (this would be a classification problem)\n",
    "* Call time to response time delay (would have to parse the original time and arrival time, I just did arrival time in this notebook\n",
    "* Number of violent crime responses in that hour\n",
    "* Number of traffic related calls in that hour\n",
    "* Number of calls overall in that area"
   ]
  }
 ],
 "metadata": {
  "kernelspec": {
   "display_name": "Python 3 (ipykernel)",
   "language": "python",
   "name": "python3"
  },
  "language_info": {
   "codemirror_mode": {
    "name": "ipython",
    "version": 3
   },
   "file_extension": ".py",
   "mimetype": "text/x-python",
   "name": "python",
   "nbconvert_exporter": "python",
   "pygments_lexer": "ipython3",
   "version": "3.8.10"
  }
 },
 "nbformat": 4,
 "nbformat_minor": 5
}
