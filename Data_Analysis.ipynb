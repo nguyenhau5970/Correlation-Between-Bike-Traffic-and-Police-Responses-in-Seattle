{
 "cells": [
  {
   "cell_type": "markdown",
   "id": "761183f4",
   "metadata": {},
   "source": [
    "## Placeholder"
   ]
  },
  {
   "cell_type": "code",
   "execution_count": 153,
   "id": "7ca0b65d-250b-4545-84a4-244b631053a9",
   "metadata": {},
   "outputs": [],
   "source": [
    "# Imports\n",
    "from os import path\n",
    "from scipy import stats\n",
    "from sklearn.linear_model import LinearRegression\n",
    "from statsmodels.compat import lzip\n",
    "from statsmodels.formula.api import ols\n",
    "from statsmodels.stats.anova import anova_lm\n",
    "from statsmodels.stats.outliers_influence import variance_inflation_factor\n",
    "from sklearn.model_selection import train_test_split\n",
    "from sklearn.metrics import mean_squared_error\n",
    "\n",
    "import os\n",
    "import matplotlib\n",
    "import matplotlib.pyplot as plt\n",
    "import numpy as np\n",
    "import pandas as pd\n",
    "import seaborn as sns\n",
    "import statsmodels.api as sm\n",
    "\n",
    "%matplotlib inline"
   ]
  },
  {
   "cell_type": "markdown",
   "id": "e12f2fa4-a5da-47b2-8949-7c1f67578554",
   "metadata": {},
   "source": [
    "## Load the Frames"
   ]
  },
  {
   "cell_type": "code",
   "execution_count": 154,
   "id": "2dc75ec6-e0af-4ef7-9100-73ae68aece6c",
   "metadata": {},
   "outputs": [],
   "source": [
    "# Files\n",
    "fremont_bikes = pd.read_csv('fremont_bikes.csv')\n",
    "fremont_calls = pd.read_csv('fremont_calls.csv')\n",
    "greenway_bikes = pd.read_csv('greenway_bikes.csv')\n",
    "greenway_calls = pd.read_csv('greenway_calls.csv')"
   ]
  },
  {
   "cell_type": "markdown",
   "id": "df69fd11-a662-4b3e-974f-e5fbaf7510d9",
   "metadata": {},
   "source": [
    "## Placeholder"
   ]
  },
  {
   "cell_type": "code",
   "execution_count": 159,
   "id": "4b41b1da",
   "metadata": {},
   "outputs": [],
   "source": [
    "# unique_final_call_types = fremont_calls['final_call_type'].unique()\n",
    "# print(unique_final_call_types)"
   ]
  },
  {
   "cell_type": "code",
   "execution_count": 162,
   "id": "74783a73",
   "metadata": {},
   "outputs": [],
   "source": [
    "fremont_calls['call_time'] = pd.to_datetime(fremont_calls['time_queued'])\n",
    "fremont_calls['arrived_time'] = pd.to_datetime(fremont_calls['arrived_time'])\n",
    "fremont_calls['hour'] = fremont_calls['arrived_time'].dt.hour\n",
    "fremont_bikes['hour'] = pd.to_datetime(fremont_bikes['time']).dt.hour\n",
    "greenway_calls['call_time'] = pd.to_datetime(greenway_calls['time_queued'])\n",
    "greenway_calls['arrived_time'] = pd.to_datetime(greenway_calls['arrived_time'])\n",
    "greenway_calls['hour'] = greenway_calls['arrived_time'].dt.hour\n",
    "greenway_bikes['hour'] = pd.to_datetime(greenway_bikes['time']).dt.hour"
   ]
  },
  {
   "cell_type": "code",
   "execution_count": 163,
   "id": "4dbf3487",
   "metadata": {},
   "outputs": [],
   "source": [
    "violent_crime_keywords = ['HOMICIDE', 'ASSAULT', 'ROBBERY', 'RAPE', 'KIDNAP', 'SHOTS', 'FIGHT - PHYSICAL', 'ARMED', 'WEAPON, PERSON WITH - GUN', 'THREATS', 'BOMB', 'CARJACKING', 'PERSON SHOT OR SHOT AT']\n",
    "\n",
    "fremont_calls['is_violent_crime'] = fremont_calls['final_call_type'].str.contains('|'.join(violent_crime_keywords), case=False)\n",
    "greenway_calls['is_violent_crime'] = greenway_calls['final_call_type'].str.contains('|'.join(violent_crime_keywords), case=False)\n",
    "\n",
    "fremont_calls['is_regular_crime'] = 1 - fremont_calls['is_violent_crime']\n",
    "greenway_calls['is_regular_crime'] = 1 - greenway_calls['is_violent_crime']"
   ]
  },
  {
   "cell_type": "code",
   "execution_count": 164,
   "id": "ec21b38c",
   "metadata": {},
   "outputs": [],
   "source": [
    "police_calls_summary = fremont_calls.groupby('hour').agg({\n",
    "    'cad_num': 'count',  # Amount of police calls\n",
    "    'final_call_type': lambda x: x.value_counts().idxmax(),  # Most common police response\n",
    "    'is_violent_crime': 'sum',  # Number of violent crime responses\n",
    "    'is_regular_crime': 'sum'  # Number of regular crime responses\n",
    "}).reset_index()\n",
    "\n",
    "police_calls_summary.rename(columns={\n",
    "    'cad_num': 'no_of_calls',\n",
    "    'final_call_type': 'most_common_type',\n",
    "    'is_violent_crime': 'no_of_violent_crimes',\n",
    "    'is_regular_crime': 'no_of_regular_crimes'\n",
    "}, inplace=True)"
   ]
  },
  {
   "cell_type": "code",
   "execution_count": 165,
   "id": "2541df9c",
   "metadata": {},
   "outputs": [],
   "source": [
    "bike_traffic_summary = fremont_bikes.groupby('hour').agg({\n",
    "    'total': 'sum',  # Total bike traffic\n",
    "}).reset_index()\n",
    "\n",
    "bike_traffic_summary.rename(columns={'total': 'total_bike'}, inplace=True)"
   ]
  },
  {
   "cell_type": "code",
   "execution_count": 166,
   "id": "61f39b20",
   "metadata": {
    "scrolled": false
   },
   "outputs": [],
   "source": [
    "merged_data = pd.merge(police_calls_summary, bike_traffic_summary, on='hour')\n",
    "\n",
    "correlation_police_calls_bike = merged_data['no_of_calls'].corr(merged_data['total_bike'])\n",
    "correlation_bike_violent_crime = merged_data['no_of_violent_crimes'].corr(merged_data['total_bike'])\n",
    "correlation_bike_regular_crime = merged_data['no_of_regular_crimes'].corr(merged_data['total_bike'])"
   ]
  },
  {
   "cell_type": "code",
   "execution_count": 167,
   "id": "a616b4ba",
   "metadata": {
    "scrolled": false
   },
   "outputs": [
    {
     "name": "stdout",
     "output_type": "stream",
     "text": [
      "    hour  no_of_calls                          most_common_type  \\\n",
      "0      0        10462  --SUSPICIOUS CIRCUM. - SUSPICIOUS PERSON   \n",
      "1      1         9853  --SUSPICIOUS CIRCUM. - SUSPICIOUS PERSON   \n",
      "2      2         7911  --SUSPICIOUS CIRCUM. - SUSPICIOUS PERSON   \n",
      "3      3         4880  --SUSPICIOUS CIRCUM. - SUSPICIOUS PERSON   \n",
      "4      4        11623  --SUSPICIOUS CIRCUM. - SUSPICIOUS PERSON   \n",
      "5      5         8197  --SUSPICIOUS CIRCUM. - SUSPICIOUS PERSON   \n",
      "6      6         7855  --SUSPICIOUS CIRCUM. - SUSPICIOUS PERSON   \n",
      "7      7        12353                      -OFF DUTY EMPLOYMENT   \n",
      "8      8        12583    --TRAFFIC - MV COLLISION INVESTIGATION   \n",
      "9      9        14499              --TRAFFIC - MOVING VIOLATION   \n",
      "10    10        14901              --TRAFFIC - MOVING VIOLATION   \n",
      "11    11        13227              --TRAFFIC - MOVING VIOLATION   \n",
      "12    12        22182              --TRAFFIC - MOVING VIOLATION   \n",
      "13    13        18862              --TRAFFIC - MOVING VIOLATION   \n",
      "14    14        16040  --SUSPICIOUS CIRCUM. - SUSPICIOUS PERSON   \n",
      "15    15        17341                      -OFF DUTY EMPLOYMENT   \n",
      "16    16        17889                      -OFF DUTY EMPLOYMENT   \n",
      "17    17        14626    --TRAFFIC - MV COLLISION INVESTIGATION   \n",
      "18    18        12576  --SUSPICIOUS CIRCUM. - SUSPICIOUS PERSON   \n",
      "19    19         8976    --TRAFFIC - MV COLLISION INVESTIGATION   \n",
      "20    20        18168  --SUSPICIOUS CIRCUM. - SUSPICIOUS PERSON   \n",
      "21    21        14636  --SUSPICIOUS CIRCUM. - SUSPICIOUS PERSON   \n",
      "22    22        13383  --SUSPICIOUS CIRCUM. - SUSPICIOUS PERSON   \n",
      "23    23        11714  --SUSPICIOUS CIRCUM. - SUSPICIOUS PERSON   \n",
      "\n",
      "    no_of_violent_crimes  no_of_regular_crimes  total_bike  \n",
      "0                    398                 10064     41131.0  \n",
      "1                    323                  9530     21829.0  \n",
      "2                    288                  7623     14352.0  \n",
      "3                    168                  4712     10470.0  \n",
      "4                    299                 11324     24742.0  \n",
      "5                    213                  7984     91850.0  \n",
      "6                    204                  7651    316320.0  \n",
      "7                    278                 12075    781864.0  \n",
      "8                    333                 12250   1107603.0  \n",
      "9                    382                 14117    676025.0  \n",
      "10                   442                 14459    396149.0  \n",
      "11                   395                 12832    373176.0  \n",
      "12                   777                 21405    403440.0  \n",
      "13                   700                 18162    429891.0  \n",
      "14                   632                 15408    470824.0  \n",
      "15                   698                 16643    587114.0  \n",
      "16                   650                 17239    902544.0  \n",
      "17                   613                 14013   1399183.0  \n",
      "18                   542                 12034    960429.0  \n",
      "19                   391                  8585    497615.0  \n",
      "20                   773                 17395    290337.0  \n",
      "21                   554                 14082    187904.0  \n",
      "22                   515                 12868    119522.0  \n",
      "23                   428                 11286     76955.0  \n"
     ]
    }
   ],
   "source": [
    "print(merged_data) "
   ]
  },
  {
   "cell_type": "code",
   "execution_count": 168,
   "id": "1bbf776b",
   "metadata": {},
   "outputs": [
    {
     "name": "stdout",
     "output_type": "stream",
     "text": [
      "Correlation between police calls and bike traffic: 0.37413954576263747\n",
      "Correlation between bike traffic and violent crime: 0.32559956583172833\n",
      "Correlation between bike traffic and regular crime: 0.3746957728911043\n"
     ]
    }
   ],
   "source": [
    "print(f'Correlation between police calls and bike traffic: {correlation_police_calls_bike}')\n",
    "print(f'Correlation between bike traffic and violent crime: {correlation_bike_violent_crime}')\n",
    "print(f'Correlation between bike traffic and regular crime: {correlation_bike_regular_crime}')"
   ]
  },
  {
   "cell_type": "markdown",
   "id": "3dc7e9e3-62b5-45df-aa47-5ab261c937f8",
   "metadata": {},
   "source": [
    "# What's Next\n",
    "\n",
    "I think a good next step is to summarize the police call data by hour. We have hourly reports for the bike counters, so we could reduce the police call data into hourly reports as well so they can be compared.\n",
    "\n",
    "This might be something like summarizing the amount of police calls in the hour, the most common type of police response in that hour, the percentage of violent crimes in that hour, etc. Then we can look for correlations. For example, we create a new data frame that has the amount of traffic related police responses per hour, and see if there's correlation between traffic responses and bike traffic.\n",
    "\n",
    "## Ideas for hourly reports\n",
    "\n",
    "* Most common type of police response in that hour (this would be a classification problem)\n",
    "* Call time to response time delay (would have to parse the original time and arrival time, I just did arrival time in this notebook\n",
    "* Number of violent crime responses in that hour\n",
    "* Number of traffic related calls in that hour\n",
    "* Number of calls overall in that area"
   ]
  }
 ],
 "metadata": {
  "kernelspec": {
   "display_name": "Python 3 (ipykernel)",
   "language": "python",
   "name": "python3"
  },
  "language_info": {
   "codemirror_mode": {
    "name": "ipython",
    "version": 3
   },
   "file_extension": ".py",
   "mimetype": "text/x-python",
   "name": "python",
   "nbconvert_exporter": "python",
   "pygments_lexer": "ipython3",
   "version": "3.11.4"
  }
 },
 "nbformat": 4,
 "nbformat_minor": 5
}
